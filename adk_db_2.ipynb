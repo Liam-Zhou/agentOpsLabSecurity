{
  "cells": [
    {
      "cell_type": "markdown",
      "metadata": {
        "id": "oRXAzkz1iuRI"
      },
      "source": [
        "# 🚀 ADK Adventure: External User-Level Database 🧑‍💼\n",
        "\n",
        "Welcome, Agent Architect! In this notebook, we're building the most robust memory pattern: an **External User-Level Database**.\n",
        "\n",
        "Here's the architecture:\n",
        "1.  **`DatabaseSessionService` (for Conversation):** We will still use the ADK's built-in service to manage *conversational history* (what was said in this specific chat). This is stored in `colab_persistent_sessions.db`.\n",
        "2.  **External SQLite DB (for User Facts):** We will create a *separate* database (`user_preferences.db`) to store permanent facts about the user (like \"I am vegetarian\").\n",
        "\n",
        "Our agent's tools (`save_user_preferences`, `recall_user_preferences`) will now connect *directly* to this external DB, using the `user_id` as a key. This means **any session** from the **same user** can instantly access their global preferences.\n",
        "\n",
        "-------------\n",
        "### ⚠️ Important Prerequisite: Setup Your Environment! ⚠️\n",
        "-----------------------------------------------------------------------------\n",
        " Before you run this file, please make sure you have completed the initial\n",
        "setup steps from the Google Codelabs instructions.\n",
        "\n",
        "This includes:\n",
        "\n",
        "1. Setting up a Google Cloud project with billing.\n",
        "2. Getting your free Gemini API Key.\n",
        "\n",
        "👉 Follow the official guide here:\n",
        "   https://codelabs.developers.google.com/onramp/instructions#0\n",
        " -----------------------------------------------------------------------------"
      ],
      "id": "oRXAzkz1iuRI"
    },
    {
      "cell_type": "markdown",
      "metadata": {
        "id": "4LvyeireiuRK"
      },
      "source": [
        "## Part 0: Setup & Authentication 🔑\n",
        "\n",
        "First things first, let's get all our tools ready. This step installs the necessary libraries (including `sqlalchemy` for the session service) and securely configures your Google API key."
      ],
      "id": "4LvyeireiuRK"
    },
    {
      "cell_type": "code",
      "execution_count": null,
      "metadata": {
        "id": "1wkXA9koiuRK",
        "colab": {
          "base_uri": "https://localhost:8080/"
        },
        "outputId": "f8f6d3c8-ddcd-46a9-d7b4-1e20ad553ce2"
      },
      "outputs": [
        {
          "output_type": "stream",
          "name": "stdout",
          "text": [
            "✅ All libraries are ready to go!\n"
          ]
        }
      ],
      "source": [
        "# We need sqlalchemy to use the DatabaseSessionService with SQLite\n",
        "!pip install google-adk google-generativeai sqlalchemy google-cloud-aiplatform -q\n",
        "\n",
        "# --- Import all necessary libraries ---\n",
        "import os\n",
        "import asyncio\n",
        "import logging\n",
        "import sqlite3\n",
        "import json\n",
        "from pathlib import Path\n",
        "from getpass import getpass\n",
        "from typing import AsyncGenerator, Dict, Any\n",
        "\n",
        "# Google & ADK Imports\n",
        "import google.generativeai as genai\n",
        "from google.genai.types import Content, Part\n",
        "from google.adk.agents import LlmAgent, BaseAgent\n",
        "from google.adk.events import Event\n",
        "from google.adk.agents.invocation_context import InvocationContext\n",
        "from google.adk.tools import ToolContext, google_search\n",
        "from google.adk.tools.agent_tool import AgentTool\n",
        "from google.adk.runners import Runner\n",
        "from google.adk.sessions import DatabaseSessionService\n",
        "from typing_extensions import override\n",
        "\n",
        "# IPython imports for rich display in Colab\n",
        "from IPython.display import display, Markdown\n",
        "\n",
        "print(\"✅ All libraries are ready to go!\")"
      ],
      "id": "1wkXA9koiuRK"
    },
    {
      "cell_type": "code",
      "source": [
        "auth.authenticate_user()"
      ],
      "metadata": {
        "id": "3cAPRwP5RK55"
      },
      "id": "3cAPRwP5RK55",
      "execution_count": null,
      "outputs": []
    },
    {
      "cell_type": "code",
      "source": [
        "# fmt: on\n",
        "PROJECT_ID = \"placeholder\" # @param {type: \"string\", placeholder: \"[your-project-id]\", isTemplate: true}\n",
        "LOCATION = \"us-central1\"\n",
        "os.environ[\"GOOGLE_CLOUD_PROJECT\"] = PROJECT_ID\n",
        "os.environ[\"GOOGLE_CLOUD_LOCATION\"] = LOCATION\n",
        "os.environ[\"GOOGLE_GENAI_USE_VERTEXAI\"] = \"1\""
      ],
      "metadata": {
        "id": "Ve5rR-c-RTuy"
      },
      "id": "Ve5rR-c-RTuy",
      "execution_count": null,
      "outputs": []
    },
    {
      "cell_type": "markdown",
      "metadata": {
        "id": "wN-bE1AqiJsB"
      },
      "source": [
        "---\n",
        "## 1. Configure the (Conversational) Session Service 💬\n",
        "\n",
        "This first database will be used by the ADK `Runner` to store the *history of the conversation* (the back-and-forth messages). This is **still required** for the agent to have conversational context."
      ],
      "id": "wN-bE1AqiJsB"
    },
    {
      "cell_type": "code",
      "execution_count": null,
      "metadata": {
        "id": "YJSKxVlHiJsC",
        "colab": {
          "base_uri": "https://localhost:8080/"
        },
        "outputId": "90a5dcb0-876b-4701-c7ed-2f7ca7a7224f"
      },
      "outputs": [
        {
          "output_type": "stream",
          "name": "stdout",
          "text": [
            "🤖 Initializing Personalized Trip Planner...\n",
            "💬 Conversation DB is configured at: /root/.adk/sessions/colab_persistent_sessions.db\n",
            "✅ DatabaseSessionService is ready.\n"
          ]
        }
      ],
      "source": [
        "# --- Configuration ---\n",
        "# This DB stores the CONVERSATION HISTORY\n",
        "SESSIONS_DIR = Path(os.path.expanduser(\"~\")) / \".adk\" / \"sessions\"\n",
        "os.makedirs(SESSIONS_DIR, exist_ok=True)\n",
        "SESSION_DB_FILE = SESSIONS_DIR / \"colab_persistent_sessions.db\"\n",
        "SESSION_URL = f\"sqlite:///{SESSION_DB_FILE}\"\n",
        "\n",
        "# We'll define a unique user and session ID\n",
        "MY_USER_ID = \"colab_user_001\"\n",
        "MY_SESSION_ID = f\"{MY_USER_ID}_session_a\" # We can change this to test isolation!\n",
        "\n",
        "# --- Initialize the Service ---\n",
        "session_service = DatabaseSessionService(db_url=SESSION_URL)\n",
        "\n",
        "print(f\"🤖 Initializing Personalized Trip Planner...\")\n",
        "print(f\"💬 Conversation DB is configured at: {SESSION_DB_FILE}\")\n",
        "print(\"✅ DatabaseSessionService is ready.\")"
      ],
      "id": "YJSKxVlHiJsC"
    },
    {
      "cell_type": "markdown",
      "metadata": {
        "id": "new-cell-userdb-markdown"
      },
      "source": [
        "---\n",
        "## 2. Setup the External User-Level Database 🧑‍💼\n",
        "\n",
        "This second database is for our *tools*. This is where we will store **permanent, global facts** about the user, like dietary preferences or a home city. Notice it's a totally separate file."
      ],
      "id": "new-cell-userdb-markdown"
    },
    {
      "cell_type": "code",
      "execution_count": null,
      "metadata": {
        "id": "new-cell-userdb-code",
        "colab": {
          "base_uri": "https://localhost:8080/"
        },
        "outputId": "43e7a5bf-e27b-49f3-e419-8d492a6e21ba"
      },
      "outputs": [
        {
          "output_type": "stream",
          "name": "stdout",
          "text": [
            "🧑‍💼 User preference database 'user_preferences.db' is ready.\n"
          ]
        }
      ],
      "source": [
        "# This DB stores the USER'S PROFILE\n",
        "USER_DB_FILE = \"user_preferences.db\"\n",
        "\n",
        "# Connect and create the table if it doesn't exist\n",
        "try:\n",
        "    with sqlite3.connect(USER_DB_FILE) as conn:\n",
        "        cursor = conn.cursor()\n",
        "        cursor.execute(\"\"\"\n",
        "        CREATE TABLE IF NOT EXISTS user_preferences (\n",
        "            id INTEGER PRIMARY KEY,\n",
        "            user_id TEXT NOT NULL,\n",
        "            pref_key TEXT NOT NULL,\n",
        "            pref_value TEXT NOT NULL,\n",
        "            UNIQUE(user_id, pref_key) -- Ensures one value per key per user\n",
        "        );\n",
        "        \"\"\")\n",
        "        conn.commit()\n",
        "        print(f\"🧑‍💼 User preference database '{USER_DB_FILE}' is ready.\")\n",
        "except Exception as e:\n",
        "    print(f\"Error setting up user DB: {e}\")"
      ],
      "id": "new-cell-userdb-code"
    },
    {
      "cell_type": "markdown",
      "metadata": {
        "id": "Ww-h0mFpiJsC"
      },
      "source": [
        "---\n",
        "## 3. Define the Agents 🤖\n",
        "\n",
        "Now we'll define our agents and memory tools.\n",
        "\n",
        "Pay close attention to `save_user_preferences` and `recall_user_preferences`. They **do not** use `tool_context.state`. Instead, they get the `user_id` from the context and then use `sqlite3` to connect to our `user_preferences.db` file directly."
      ],
      "id": "Ww-h0mFpiJsC"
    },
    {
      "cell_type": "code",
      "execution_count": null,
      "metadata": {
        "id": "1e_Vn9VciJsD",
        "colab": {
          "base_uri": "https://localhost:8080/"
        },
        "outputId": "9fc7b7ac-07c9-4efa-e4ca-86b595991242"
      },
      "outputs": [
        {
          "output_type": "stream",
          "name": "stdout",
          "text": [
            "🤖 Memory Coordinator Agent (with EXTERNAL User-Level DB) is ready.\n"
          ]
        }
      ],
      "source": [
        "# Make sure this matches the cell above\n",
        "USER_DB_FILE = \"user_preferences.db\"\n",
        "\n",
        "# --- 1. Define the USER-LEVEL Memory Tools ---\n",
        "\n",
        "def save_user_preferences(tool_context: ToolContext, new_preferences: Dict[str, Any]) -> str:\n",
        "    \"\"\"\n",
        "    Saves or updates user preferences in the EXTERNAL user_preferences.db.\n",
        "    \"\"\"\n",
        "    # Get the user_id for this session\n",
        "    user_id = tool_context.session.user_id\n",
        "    if not user_id:\n",
        "        return \"Error: Could not identify user.\"\n",
        "\n",
        "    print(f\"\\n[DEBUG] Tool 'save_user_preferences' connecting to {USER_DB_FILE} for user {user_id}\")\n",
        "    try:\n",
        "        with sqlite3.connect(USER_DB_FILE) as conn:\n",
        "            cursor = conn.cursor()\n",
        "            for key, value in new_preferences.items():\n",
        "                # Store complex values (like lists) as JSON strings\n",
        "                value_str = json.dumps(value)\n",
        "                cursor.execute(\"\"\"\n",
        "                INSERT INTO user_preferences (user_id, pref_key, pref_value)\n",
        "                VALUES (?, ?, ?)\n",
        "                ON CONFLICT(user_id, pref_key) DO UPDATE SET pref_value = excluded.pref_value;\n",
        "                \"\"\", (user_id, key, value_str))\n",
        "            conn.commit()\n",
        "        return f\"Preferences updated successfully in user DB: {new_preferences}\"\n",
        "    except Exception as e:\n",
        "        return f\"Error saving preferences to DB: {e}\"\n",
        "\n",
        "def recall_user_preferences(tool_context: ToolContext) -> Dict[str, Any]:\n",
        "    \"\"\"Recalls all saved preferences for the current user from the EXTERNAL user_preferences.db.\"\"\"\n",
        "    user_id = tool_context.session.user_id\n",
        "    if not user_id:\n",
        "        return {\"message\": \"Error: Could not identify user.\"}\n",
        "\n",
        "    print(f\"\\n[DEBUG] Tool 'recall_user_preferences' connecting to {USER_DB_FILE} for user {user_id}\")\n",
        "    preferences = {}\n",
        "    try:\n",
        "        with sqlite3.connect(USER_DB_FILE) as conn:\n",
        "            cursor = conn.cursor()\n",
        "            cursor.execute(\"SELECT pref_key, pref_value FROM user_preferences WHERE user_id = ?\", (user_id,))\n",
        "            rows = cursor.fetchall()\n",
        "\n",
        "            if not rows:\n",
        "                return {\"message\": \"No preferences found in user DB for this user.\"}\n",
        "\n",
        "            for key, value_str in rows:\n",
        "                # Load the JSON string back into a Python object\n",
        "                preferences[key] = json.loads(value_str)\n",
        "        return preferences\n",
        "    except Exception as e:\n",
        "        return {\"message\": f\"Error recalling preferences from DB: {e}\"}\n",
        "\n",
        "\n",
        "# --- 2. Define the Specialist \"Tool\" Agent ---\n",
        "planner_tool_agent = LlmAgent(\n",
        "    name=\"PlannerToolAgent\",\n",
        "    model=\"gemini-2.5-flash\",\n",
        "    description=\"A specialist that finds activities and restaurants based on a user's request and preferences.\",\n",
        "    instruction=\"\"\"\n",
        "    You are a planning assistant. Based on the user's request and their provided preferences (e.g., 'vegetarian'), find one activity and one restaurant in Sunnyvale.\n",
        "    If the user has a dietary preference, make sure the restaurant matches it.\n",
        "    Output the plan as a simple JSON object.\n",
        "    Example: {\"activity\": \"The Tech Interactive\", \"restaurant\": \"Il Postale\"}\n",
        "    \"\"\",\n",
        "    tools=[google_search]\n",
        ")\n",
        "\n",
        "# --- 3. Define the Main Coordinator Agent (Unchanged) ---\n",
        "root_agent = LlmAgent(\n",
        "    name=\"MemoryCoordinatorAgent\",\n",
        "    model=\"gemini-2.5-flash\",\n",
        "    instruction=\"\"\"\n",
        "    You are a highly intelligent, personalized trip planner with a persistent memory.\n",
        "    1. RECALL FIRST: At the absolute beginning of the conversation, your first action MUST be to call the `recall_user_preferences` tool.\n",
        "    2. PERSONALIZE & PLAN: Use the recalled preferences to enrich the user's current request. Call the `PlannerToolAgent` with the combined request.\n",
        "    3. PRESENT & LEARN: Present the plan. Then, ask for feedback and if there are any new preferences you should save.\n",
        "    4. SAVE LAST: If the user provides a new preference, your final action MUST be to call the `save_user_preferences` tool.\n",
        "    \"\"\",\n",
        "    tools=[\n",
        "        recall_user_preferences,\n",
        "        save_user_preferences,\n",
        "        AgentTool(agent=planner_tool_agent)\n",
        "    ]\n",
        ")\n",
        "\n",
        "print(\"🤖 Memory Coordinator Agent (with EXTERNAL User-Level DB) is ready.\")"
      ],
      "id": "1e_Vn9VciJsD"
    },
    {
      "cell_type": "markdown",
      "metadata": {
        "id": "9u_iX8tiiJsD"
      },
      "source": [
        "---\n",
        "## 4. Create a Colab-Friendly Runner 🏃\n",
        "\n",
        "This helper function is the same as before. It will initialize the `Runner` with our `DatabaseSessionService` (for conversation history) and manage running the queries."
      ],
      "id": "9u_iX8tiiJsD"
    },
    {
      "cell_type": "code",
      "execution_count": null,
      "metadata": {
        "id": "H-7vW8O-iJsE",
        "colab": {
          "base_uri": "https://localhost:8080/"
        },
        "outputId": "a964aa3a-2076-43fb-a2b3-0c5160b3d1ab"
      },
      "outputs": [
        {
          "output_type": "stream",
          "name": "stdout",
          "text": [
            "✅ Colab runner function is defined.\n"
          ]
        }
      ],
      "source": [
        "# --- Initialize the Runner with our Persistent Service ---\n",
        "runner = Runner(\n",
        "    agent=root_agent,\n",
        "    session_service=session_service,\n",
        "    app_name=root_agent.name\n",
        ")\n",
        "\n",
        "# Helper function to get or create our one persistent session\n",
        "async def get_or_create_session(user_id, session_id):\n",
        "    session = await session_service.get_session(\n",
        "        app_name=root_agent.name, user_id=user_id, session_id=session_id\n",
        "    )\n",
        "    if session is None:\n",
        "        print(f\"\\n[SYSTEM] No existing conversation. Creating new one: {session_id}\")\n",
        "        session = await session_service.create_session(\n",
        "            app_name=root_agent.name, user_id=user_id, session_id=session_id\n",
        "        )\n",
        "    else:\n",
        "        print(f\"\\n[SYSTEM] ✅ Found existing conversation: {session.id}\")\n",
        "    return session\n",
        "\n",
        "# This function adapts your main.py's event loop for Colab\n",
        "async def run_persistent_query_async(query: str, user_id: str, session_id: str):\n",
        "    print(f\"\\n--- 🗣️ You: {query} ---\")\n",
        "    print(\"🤖 Agent: \", end=\"\", flush=True)\n",
        "\n",
        "    # Get our persistent session\n",
        "    session = await get_or_create_session(user_id, session_id)\n",
        "\n",
        "    final_response_text = \"\"\n",
        "\n",
        "    # Use the robust event loop from your main.py\n",
        "    try:\n",
        "        async for event in runner.run_async(\n",
        "            user_id=session.user_id,\n",
        "            session_id=session.id,\n",
        "            new_message=Content(parts=[Part(text=query)], role=\"user\")\n",
        "        ):\n",
        "            if not event.content:\n",
        "                continue\n",
        "\n",
        "            for part in event.content.parts:\n",
        "                # Case 1: Text chunk from the model\n",
        "                if hasattr(part, \"text\") and part.text:\n",
        "                    print(part.text, end=\"\", flush=True)\n",
        "                    if event.is_final_response():\n",
        "                        final_response_text = part.text\n",
        "\n",
        "                # Case 2: Tool result (for debugging)\n",
        "                elif event.author == \"user\" and hasattr(part, \"function_response\"):\n",
        "                    tool_name = part.function_response.name\n",
        "                    tool_result = part.function_response.response\n",
        "\n",
        "                    # Print debug info on a new line (our custom tool logs will also appear here)\n",
        "                    print(f\"\\n[DEBUG] Tool '{tool_name}' returned: {tool_result}\")\n",
        "\n",
        "                    # Re-print the \"Agent:\" prompt\n",
        "                    print(\"\\nAgent: \", end=\"\", flush=True)\n",
        "\n",
        "        # Add a final newline for clean formatting\n",
        "        print(\"\\n\" + \"-\"*50)\n",
        "\n",
        "    except Exception as e:\n",
        "        print(f\"\\n\\nAn error occurred: {e}\")\n",
        "        print(\"\\n\" + \"-\"*50)\n",
        "\n",
        "    return final_response_text\n",
        "\n",
        "print(\"✅ Colab runner function is defined.\")"
      ],
      "id": "H-7vW8O-iJsE"
    },
    {
      "cell_type": "markdown",
      "metadata": {
        "id": "Ww8Jq8pfiJsE"
      },
      "source": [
        "---\n",
        "## 5. Run the Demonstration (Part 1) 🧪\n",
        "\n",
        "Let's have a conversation. We will use `MY_USER_ID` and a session ID called `session_a`.\n",
        "\n",
        "1.  **Turn 1:** We'll ask for help. The agent should call `recall_user_preferences` and find nothing in `user_preferences.db`.\n",
        "2.  **Turn 2:** We'll give it a preference. The agent should call `save_user_preferences`, which writes to `user_preferences.db`.\n",
        "3.  **Turn 3:** We'll ask for a plan. The agent should call `recall_user_preferences` and find our preference!"
      ],
      "id": "Ww8Jq8pfiJsE"
    },
    {
      "cell_type": "code",
      "execution_count": null,
      "metadata": {
        "id": "CjK52IuAiJsF",
        "colab": {
          "base_uri": "https://localhost:8080/",
          "height": 472
        },
        "outputId": "acfccc5d-f94b-4f8e-feb0-d671f76fc5c4"
      },
      "outputs": [
        {
          "output_type": "stream",
          "name": "stdout",
          "text": [
            "\n",
            "--- 🗣️ You: Can you help me plan a trip? ---\n",
            "🤖 Agent: \n",
            "[SYSTEM] No existing conversation. Creating new one: colab_user_001_session_a\n"
          ]
        },
        {
          "output_type": "stream",
          "name": "stderr",
          "text": [
            "WARNING:google_genai.types:Warning: there are non-text parts in the response: ['thought_signature', 'function_call'], returning concatenated text result from text parts. Check the full candidates.content.parts accessor to get the full model response.\n"
          ]
        },
        {
          "output_type": "stream",
          "name": "stdout",
          "text": [
            "\n",
            "[DEBUG] Tool 'recall_user_preferences' connecting to user_preferences.db for user colab_user_001\n"
          ]
        },
        {
          "output_type": "stream",
          "name": "stderr",
          "text": [
            "WARNING:google_genai.types:Warning: there are non-text parts in the response: ['thought_signature', 'function_call'], returning concatenated text result from text parts. Check the full candidates.content.parts accessor to get the full model response.\n",
            "WARNING:google_genai.types:Warning: there are non-text parts in the response: ['thought_signature'], returning concatenated text result from text parts. Check the full candidates.content.parts accessor to get the full model response.\n"
          ]
        },
        {
          "output_type": "stream",
          "name": "stdout",
          "text": [
            "Yes, I can help you plan a trip! To start, I need a little more information. Please tell me:\n",
            "\n",
            "1.  **What is your destination?** (e.g., city, state, country)\n",
            "2.  **What are your dates of travel?** (optional, but helpful for checking availability)\n",
            "3.  **Are there any specific activities or types of food you're interested in?** (e.g., museums, outdoor activities, vegetarian restaurants, fine dining)\n",
            "4.  **Do you have any dietary preferences or restrictions?** (e.g., vegetarian, vegan, gluten-free)\n",
            "5.  **Is there anything else I should know to help you plan your trip?**\n",
            "\n",
            "Once I have this information, I can start putting together a personalized plan for you! Do you have any feedback on these questions or any new preferences you'd like me to save for future trips?\n",
            "--------------------------------------------------\n"
          ]
        },
        {
          "output_type": "execute_result",
          "data": {
            "text/plain": [
              "\"Yes, I can help you plan a trip! To start, I need a little more information. Please tell me:\\n\\n1.  **What is your destination?** (e.g., city, state, country)\\n2.  **What are your dates of travel?** (optional, but helpful for checking availability)\\n3.  **Are there any specific activities or types of food you're interested in?** (e.g., museums, outdoor activities, vegetarian restaurants, fine dining)\\n4.  **Do you have any dietary preferences or restrictions?** (e.g., vegetarian, vegan, gluten-free)\\n5.  **Is there anything else I should know to help you plan your trip?**\\n\\nOnce I have this information, I can start putting together a personalized plan for you! Do you have any feedback on these questions or any new preferences you'd like me to save for future trips?\""
            ],
            "application/vnd.google.colaboratory.intrinsic+json": {
              "type": "string"
            }
          },
          "metadata": {},
          "execution_count": 8
        }
      ],
      "source": [
        "# Turn 1: Initial query\n",
        "# The agent should find NO preferences in the external DB.\n",
        "query1 = \"Can you help me plan a trip?\"\n",
        "await run_persistent_query_async(query1, MY_USER_ID, MY_SESSION_ID)"
      ],
      "id": "CjK52IuAiJsF"
    },
    {
      "cell_type": "code",
      "execution_count": null,
      "metadata": {
        "id": "F_yC6d-ziJsF",
        "colab": {
          "base_uri": "https://localhost:8080/",
          "height": 403
        },
        "outputId": "4b85a2ef-cf39-434c-e436-2b93423a6226"
      },
      "outputs": [
        {
          "output_type": "stream",
          "name": "stdout",
          "text": [
            "\n",
            "--- 🗣️ You: Great. Please save this preference: I am a vegetarian. ---\n",
            "🤖 Agent: \n",
            "[SYSTEM] ✅ Found existing conversation: colab_user_001_session_a\n"
          ]
        },
        {
          "output_type": "stream",
          "name": "stderr",
          "text": [
            "WARNING:google_genai.types:Warning: there are non-text parts in the response: ['thought_signature', 'function_call'], returning concatenated text result from text parts. Check the full candidates.content.parts accessor to get the full model response.\n"
          ]
        },
        {
          "output_type": "stream",
          "name": "stdout",
          "text": [
            "\n",
            "[DEBUG] Tool 'save_user_preferences' connecting to user_preferences.db for user colab_user_001\n",
            "Great! I've saved your preference that you are a vegetarian. I will keep this in mind for all future trip planning.\n",
            "\n",
            "Now, going back to planning your current trip, could you please provide the following details?\n",
            "\n",
            "1.  **What is your destination?** (e.g., city, state, country)\n",
            "2.  **What are your dates of travel?** (optional, but helpful for checking availability)\n",
            "3.  **Are there any specific activities or types of food you're interested in?** (e.g., museums, outdoor activities, fine dining - keeping in mind your vegetarian preference!)\n",
            "4.  **Is there anything else I should know to help you plan your trip?**\n",
            "--------------------------------------------------\n"
          ]
        },
        {
          "output_type": "execute_result",
          "data": {
            "text/plain": [
              "\"Great! I've saved your preference that you are a vegetarian. I will keep this in mind for all future trip planning.\\n\\nNow, going back to planning your current trip, could you please provide the following details?\\n\\n1.  **What is your destination?** (e.g., city, state, country)\\n2.  **What are your dates of travel?** (optional, but helpful for checking availability)\\n3.  **Are there any specific activities or types of food you're interested in?** (e.g., museums, outdoor activities, fine dining - keeping in mind your vegetarian preference!)\\n4.  **Is there anything else I should know to help you plan your trip?**\""
            ],
            "application/vnd.google.colaboratory.intrinsic+json": {
              "type": "string"
            }
          },
          "metadata": {},
          "execution_count": 9
        }
      ],
      "source": [
        "# Turn 2: Save a preference\n",
        "# The agent should call save_user_preferences, which writes to user_preferences.db\n",
        "query2 = \"Great. Please save this preference: I am a vegetarian.\"\n",
        "await run_persistent_query_async(query2, MY_USER_ID, MY_SESSION_ID)"
      ],
      "id": "F_yC6d-ziJsF"
    },
    {
      "cell_type": "code",
      "execution_count": null,
      "metadata": {
        "id": "PqDq6bN-iJsG",
        "colab": {
          "base_uri": "https://localhost:8080/",
          "height": 298
        },
        "outputId": "dbe03967-4e0f-4d45-e82a-bdf9e63105e5"
      },
      "outputs": [
        {
          "output_type": "stream",
          "name": "stdout",
          "text": [
            "\n",
            "--- 🗣️ You: Now, can you plan a trip to Sunnyvale? ---\n",
            "🤖 Agent: \n",
            "[SYSTEM] ✅ Found existing conversation: colab_user_001_session_a\n"
          ]
        },
        {
          "output_type": "stream",
          "name": "stderr",
          "text": [
            "WARNING:google_genai.types:Warning: there are non-text parts in the response: ['thought_signature', 'function_call'], returning concatenated text result from text parts. Check the full candidates.content.parts accessor to get the full model response.\n"
          ]
        },
        {
          "output_type": "stream",
          "name": "stdout",
          "text": [
            "Great! For your trip to Sunnyvale, I recommend the following:\n",
            "\n",
            "*   **Activity:** Computer History Museum\n",
            "*   **Restaurant:** Merit Vegan Restaurant (keeping in mind your vegetarian preference!)\n",
            "\n",
            "Would you like to explore more options for activities or dining, or perhaps specify dates for your trip? Is there any feedback on this plan or any other preferences you'd like to save?\n",
            "--------------------------------------------------\n"
          ]
        },
        {
          "output_type": "execute_result",
          "data": {
            "text/plain": [
              "\"Great! For your trip to Sunnyvale, I recommend the following:\\n\\n*   **Activity:** Computer History Museum\\n*   **Restaurant:** Merit Vegan Restaurant (keeping in mind your vegetarian preference!)\\n\\nWould you like to explore more options for activities or dining, or perhaps specify dates for your trip? Is there any feedback on this plan or any other preferences you'd like to save?\""
            ],
            "application/vnd.google.colaboratory.intrinsic+json": {
              "type": "string"
            }
          },
          "metadata": {},
          "execution_count": 10
        }
      ],
      "source": [
        "# Turn 3: Ask for a plan\n",
        "# The agent should RECALL our preference from the external DB and use it.\n",
        "query3 = \"Now, can you plan a trip to Sunnyvale?\"\n",
        "await run_persistent_query_async(query3, MY_USER_ID, MY_SESSION_ID)"
      ],
      "id": "PqDq6bN-iJsG"
    },
    {
      "cell_type": "markdown",
      "metadata": {
        "id": "1V-i-1CfiJsG"
      },
      "source": [
        "---\n",
        "## 6. The REAL Test: Kernel Restart & New Session 🔄\n",
        "\n",
        "This is the ultimate test. We will prove **both** session isolation and user-level memory.\n",
        "\n",
        "**First, do the following:**\n",
        "1.  Go to the menu at the top of Colab.\n",
        "2.  Click **Runtime > Restart session...** and confirm.\n",
        "3.  Wait for the kernel to reconnect.\n",
        "4.  **Manually re-run all the code cells** from \"Part 0\" down to here to re-initialize everything.\n",
        "5.  Once all cells above are run, run the *next* code cell.\n",
        "\n",
        "We will use a **NEW session_id** (`session_b`). The agent should find *no conversation history*, but it should *immediately* find your user preference from the `user_preferences.db`!"
      ],
      "id": "1V-i-1CfiJsG"
    },
    {
      "cell_type": "code",
      "execution_count": null,
      "metadata": {
        "id": "Oa35f_zpiJsH",
        "colab": {
          "base_uri": "https://localhost:8080/",
          "height": 420
        },
        "outputId": "09be52fb-85a9-4607-d515-990bcbab6d83"
      },
      "outputs": [
        {
          "output_type": "stream",
          "name": "stdout",
          "text": [
            "--- Starting a new conversation in colab_user_001_session_b ---\n",
            "\n",
            "--- 🗣️ You: Hi, I'm back. Can you plan a trip for me? ---\n",
            "🤖 Agent: \n",
            "[SYSTEM] No existing conversation. Creating new one: colab_user_001_session_b\n"
          ]
        },
        {
          "output_type": "stream",
          "name": "stderr",
          "text": [
            "WARNING:google_genai.types:Warning: there are non-text parts in the response: ['thought_signature', 'function_call'], returning concatenated text result from text parts. Check the full candidates.content.parts accessor to get the full model response.\n"
          ]
        },
        {
          "output_type": "stream",
          "name": "stdout",
          "text": [
            "\n",
            "[DEBUG] Tool 'recall_user_preferences' connecting to user_preferences.db for user colab_user_001\n"
          ]
        },
        {
          "output_type": "stream",
          "name": "stderr",
          "text": [
            "WARNING:google_genai.types:Warning: there are non-text parts in the response: ['thought_signature', 'function_call'], returning concatenated text result from text parts. Check the full candidates.content.parts accessor to get the full model response.\n",
            "WARNING:google_genai.types:Warning: there are non-text parts in the response: ['thought_signature'], returning concatenated text result from text parts. Check the full candidates.content.parts accessor to get the full model response.\n"
          ]
        },
        {
          "output_type": "stream",
          "name": "stdout",
          "text": [
            "Great to have you back!\n",
            "\n",
            "Based on your previous preference for vegetarian options, I've planned the following for you:\n",
            "\n",
            "*   **Activity:** Computer History Museum\n",
            "*   **Restaurant:** Merit Vegan Cuisine\n",
            "\n",
            "How does this sound? Is there anything you'd like to change, or any new preferences I should remember for next time?\n",
            "--------------------------------------------------\n"
          ]
        },
        {
          "output_type": "execute_result",
          "data": {
            "text/plain": [
              "\"Great to have you back!\\n\\nBased on your previous preference for vegetarian options, I've planned the following for you:\\n\\n*   **Activity:** Computer History Museum\\n*   **Restaurant:** Merit Vegan Cuisine\\n\\nHow does this sound? Is there anything you'd like to change, or any new preferences I should remember for next time?\""
            ],
            "application/vnd.google.colaboratory.intrinsic+json": {
              "type": "string"
            }
          },
          "metadata": {},
          "execution_count": 11
        }
      ],
      "source": [
        "# Turn 4: (AFTER KERNEL RESTART)\n",
        "# We use the SAME user_id but a NEW session_id\n",
        "MY_NEW_SESSION_ID = f\"{MY_USER_ID}_session_b\"\n",
        "\n",
        "print(f\"--- Starting a new conversation in {MY_NEW_SESSION_ID} ---\")\n",
        "\n",
        "query4 = \"Hi, I'm back. Can you plan a trip for me?\"\n",
        "await run_persistent_query_async(query4, MY_USER_ID, MY_NEW_SESSION_ID)"
      ],
      "id": "Oa35f_zpiJsH"
    },
    {
      "cell_type": "markdown",
      "metadata": {
        "id": "T2ErcoGhiuRN"
      },
      "source": [
        "---\n",
        "## 🎉 Congratulations! 🎉\n",
        "\n",
        "If everything worked, the agent in the last step did two things:\n",
        "1.  It created a **new conversation** (e.g., `session_b`) because `session_a`'s in-memory context was gone.\n",
        "2.  It *immediately* called `recall_user_preferences` and **found your vegetarian preference** from the `user_preferences.db`, even though it had never spoken to you in this new session!\n",
        "\n",
        "You have successfully implemented the most powerful and scalable memory pattern:\n",
        "\n",
        "* **Conversational Memory** using `DatabaseSessionService`.\n",
        "* **Persistent User-Level Memory** using a separate, external database."
      ],
      "id": "T2ErcoGhiuRN"
    }
  ],
  "metadata": {
    "colab": {
      "provenance": []
    },
    "kernelspec": {
      "display_name": "Python 3",
      "name": "python3"
    },
    "language_info": {
      "name": "python"
    }
  },
  "nbformat": 4,
  "nbformat_minor": 5
}